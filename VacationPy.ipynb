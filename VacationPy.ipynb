{
 "cells": [
  {
   "cell_type": "code",
   "execution_count": 5,
   "metadata": {},
   "outputs": [],
   "source": [
    "# Import the dependencies.\n",
    "import pandas as pd\n",
    "import gmaps\n",
    "import requests\n",
    "# Import the API key.\n",
    "from config import g_key"
   ]
  },
  {
   "cell_type": "code",
   "execution_count": 6,
   "metadata": {},
   "outputs": [
    {
     "output_type": "execute_result",
     "data": {
      "text/plain": [
       "   City_ID     City Country                 Date      Lat       Lng  Max Temp  \\\n",
       "0        0  Mandera      KE  2021-03-23 17:52:36   3.9366   41.8670     91.71   \n",
       "1        1    Roald      NO  2021-03-23 17:52:36  62.5833    6.1333     50.00   \n",
       "2        2    Natal      BR  2021-03-23 17:52:36  -5.7950  -35.2094     87.80   \n",
       "3        3     Faya      SA  2021-03-23 17:52:36  18.3851   42.4509     69.80   \n",
       "4        4    Kapaa      US  2021-03-23 17:52:37  22.0752 -159.3190     64.40   \n",
       "\n",
       "   Humidity  Cloudiness  Wind Speed  \n",
       "0        11          10        8.46  \n",
       "1        62          75       16.11  \n",
       "2        66          40       14.97  \n",
       "3        56           0       10.36  \n",
       "4        88           1        8.05  "
      ],
      "text/html": "<div>\n<style scoped>\n    .dataframe tbody tr th:only-of-type {\n        vertical-align: middle;\n    }\n\n    .dataframe tbody tr th {\n        vertical-align: top;\n    }\n\n    .dataframe thead th {\n        text-align: right;\n    }\n</style>\n<table border=\"1\" class=\"dataframe\">\n  <thead>\n    <tr style=\"text-align: right;\">\n      <th></th>\n      <th>City_ID</th>\n      <th>City</th>\n      <th>Country</th>\n      <th>Date</th>\n      <th>Lat</th>\n      <th>Lng</th>\n      <th>Max Temp</th>\n      <th>Humidity</th>\n      <th>Cloudiness</th>\n      <th>Wind Speed</th>\n    </tr>\n  </thead>\n  <tbody>\n    <tr>\n      <th>0</th>\n      <td>0</td>\n      <td>Mandera</td>\n      <td>KE</td>\n      <td>2021-03-23 17:52:36</td>\n      <td>3.9366</td>\n      <td>41.8670</td>\n      <td>91.71</td>\n      <td>11</td>\n      <td>10</td>\n      <td>8.46</td>\n    </tr>\n    <tr>\n      <th>1</th>\n      <td>1</td>\n      <td>Roald</td>\n      <td>NO</td>\n      <td>2021-03-23 17:52:36</td>\n      <td>62.5833</td>\n      <td>6.1333</td>\n      <td>50.00</td>\n      <td>62</td>\n      <td>75</td>\n      <td>16.11</td>\n    </tr>\n    <tr>\n      <th>2</th>\n      <td>2</td>\n      <td>Natal</td>\n      <td>BR</td>\n      <td>2021-03-23 17:52:36</td>\n      <td>-5.7950</td>\n      <td>-35.2094</td>\n      <td>87.80</td>\n      <td>66</td>\n      <td>40</td>\n      <td>14.97</td>\n    </tr>\n    <tr>\n      <th>3</th>\n      <td>3</td>\n      <td>Faya</td>\n      <td>SA</td>\n      <td>2021-03-23 17:52:36</td>\n      <td>18.3851</td>\n      <td>42.4509</td>\n      <td>69.80</td>\n      <td>56</td>\n      <td>0</td>\n      <td>10.36</td>\n    </tr>\n    <tr>\n      <th>4</th>\n      <td>4</td>\n      <td>Kapaa</td>\n      <td>US</td>\n      <td>2021-03-23 17:52:37</td>\n      <td>22.0752</td>\n      <td>-159.3190</td>\n      <td>64.40</td>\n      <td>88</td>\n      <td>1</td>\n      <td>8.05</td>\n    </tr>\n  </tbody>\n</table>\n</div>"
     },
     "metadata": {},
     "execution_count": 6
    }
   ],
   "source": [
    "# Store the CSV you saved created in part one into a DataFrame.\n",
    "city_data_df = pd.read_csv(\"weather_data/cities.csv\")\n",
    "city_data_df.head()"
   ]
  },
  {
   "cell_type": "code",
   "execution_count": 7,
   "metadata": {},
   "outputs": [
    {
     "output_type": "execute_result",
     "data": {
      "text/plain": [
       "City_ID         int64\n",
       "City           object\n",
       "Country        object\n",
       "Date           object\n",
       "Lat           float64\n",
       "Lng           float64\n",
       "Max Temp      float64\n",
       "Humidity        int64\n",
       "Cloudiness      int64\n",
       "Wind Speed    float64\n",
       "dtype: object"
      ]
     },
     "metadata": {},
     "execution_count": 7
    }
   ],
   "source": [
    "city_data_df.dtypes"
   ]
  },
  {
   "source": [
    "## create heatmap"
   ],
   "cell_type": "markdown",
   "metadata": {}
  },
  {
   "cell_type": "code",
   "execution_count": 8,
   "metadata": {},
   "outputs": [],
   "source": [
    "# Configure gmaps to use your Google API key.\n",
    "gmaps.configure(api_key=g_key)"
   ]
  },
  {
   "cell_type": "code",
   "execution_count": 9,
   "metadata": {},
   "outputs": [
    {
     "output_type": "display_data",
     "data": {
      "text/plain": "Figure(layout=FigureLayout(height='420px'))",
      "application/vnd.jupyter.widget-view+json": {
       "version_major": 2,
       "version_minor": 0,
       "model_id": "28160ddb957742f9942dd32d046977eb"
      }
     },
     "metadata": {}
    }
   ],
   "source": [
    "# Heatmap of temperature\n",
    "# Get the latitude and longitude.\n",
    "locations = city_data_df[[\"Lat\", \"Lng\"]]\n",
    "# Get the maximum temperature.\n",
    "max_temp = city_data_df[\"Max Temp\"]\n",
    "# Assign the figure variable.\n",
    "fig = gmaps.figure(center=(30.0, 31.0), zoom_level=1.5)\n",
    "# Assign the heatmap variable.\n",
    "heat_layer = gmaps.heatmap_layer(locations, weights=[max(temp, 0) for temp in max_temp], dissipating=False, max_intensity=300, point_radius=4)\n",
    "# Add the heatmap layer.\n",
    "fig.add_layer(heat_layer)\n",
    "# Call the figure to plot the data.\n",
    "fig\n"
   ]
  },
  {
   "cell_type": "code",
   "execution_count": 10,
   "metadata": {},
   "outputs": [
    {
     "output_type": "display_data",
     "data": {
      "text/plain": "Figure(layout=FigureLayout(height='420px'))",
      "application/vnd.jupyter.widget-view+json": {
       "version_major": 2,
       "version_minor": 0,
       "model_id": "7a569c4d3afa4656bb6bd1a4bf8d610e"
      }
     },
     "metadata": {}
    }
   ],
   "source": [
    "# Heatmap of percent humidity\n",
    "locations = city_data_df[[\"Lat\", \"Lng\"]]\n",
    "humidity = city_data_df[\"Humidity\"]\n",
    "fig = gmaps.figure(center=(30.0, 31.0), zoom_level=1.5)\n",
    "heat_layer = gmaps.heatmap_layer(locations, weights=humidity, dissipating=False, max_intensity=300, point_radius=4)\n",
    "\n",
    "fig.add_layer(heat_layer)\n",
    "# Call the figure to plot the data.\n",
    "fig"
   ]
  },
  {
   "cell_type": "code",
   "execution_count": 11,
   "metadata": {},
   "outputs": [
    {
     "output_type": "display_data",
     "data": {
      "text/plain": "Figure(layout=FigureLayout(height='420px'))",
      "application/vnd.jupyter.widget-view+json": {
       "version_major": 2,
       "version_minor": 0,
       "model_id": "4ad6ad3a12cd459590bca2513445687e"
      }
     },
     "metadata": {}
    }
   ],
   "source": [
    "# Heatmap of percent humidity\n",
    "locations = city_data_df[[\"Lat\", \"Lng\"]]\n",
    "clouds = city_data_df[\"Cloudiness\"]\n",
    "fig = gmaps.figure(center=(30.0, 31.0), zoom_level=1.5)\n",
    "heat_layer = gmaps.heatmap_layer(locations, weights=clouds, dissipating=False, max_intensity=300, point_radius=4)\n",
    "\n",
    "fig.add_layer(heat_layer)\n",
    "# Call the figure to plot the data.\n",
    "fig"
   ]
  },
  {
   "cell_type": "code",
   "execution_count": 12,
   "metadata": {},
   "outputs": [
    {
     "output_type": "display_data",
     "data": {
      "text/plain": "Figure(layout=FigureLayout(height='420px'))",
      "application/vnd.jupyter.widget-view+json": {
       "version_major": 2,
       "version_minor": 0,
       "model_id": "9331ddda8d784b6abcecd870f7ba0cca"
      }
     },
     "metadata": {}
    }
   ],
   "source": [
    "# Heatmap of percent humidity\n",
    "locations = city_data_df[[\"Lat\", \"Lng\"]]\n",
    "wind = city_data_df[\"Wind Speed\"]\n",
    "fig = gmaps.figure(center=(30.0, 31.0), zoom_level=1.5)\n",
    "heat_layer = gmaps.heatmap_layer(locations, weights=wind, dissipating=False, max_intensity=300, point_radius=4)\n",
    "\n",
    "fig.add_layer(heat_layer)\n",
    "# Call the figure to plot the data.\n",
    "fig"
   ]
  },
  {
   "source": [
    "## user filter"
   ],
   "cell_type": "markdown",
   "metadata": {}
  },
  {
   "cell_type": "code",
   "execution_count": 22,
   "metadata": {},
   "outputs": [],
   "source": [
    "# Ask the customer to add a minimum and maximum temperature value.\n",
    "min_temp = float(input(\"What is the minimum temperature you would like for your trip? \"))\n",
    "max_temp = float(input(\"What is the maximum temperature you would like for your trip? \"))"
   ]
  },
  {
   "cell_type": "code",
   "execution_count": 26,
   "metadata": {},
   "outputs": [
    {
     "output_type": "execute_result",
     "data": {
      "text/plain": [
       "    City_ID          City Country                 Date      Lat       Lng  \\\n",
       "3         3          Faya      SA  2021-03-23 17:52:36  18.3851   42.4509   \n",
       "4         4         Kapaa      US  2021-03-23 17:52:37  22.0752 -159.3190   \n",
       "13       13   East London      ZA  2021-03-23 17:52:39 -33.0153   27.9116   \n",
       "14       14     Byron Bay      AU  2021-03-23 17:52:39 -28.6500  153.6167   \n",
       "17       17   New Norfolk      AU  2021-03-23 17:52:40 -42.7826  147.0587   \n",
       "19       19     Gladstone      AU  2021-03-23 17:52:40 -23.8500  151.2500   \n",
       "20       20        Hobart      AU  2021-03-23 17:48:31 -42.8794  147.3294   \n",
       "27       27       Da Nang      VN  2021-03-23 17:52:42  16.0678  108.2208   \n",
       "31       31   Port Alfred      ZA  2021-03-23 17:52:43 -33.5906   26.8910   \n",
       "32       32  Khorramshahr      IR  2021-03-23 17:52:43  30.4397   48.1664   \n",
       "\n",
       "    Max Temp  Humidity  Cloudiness  Wind Speed  \n",
       "3      69.80        56           0       10.36  \n",
       "4      64.40        88           1        8.05  \n",
       "13     68.00        77          20       10.36  \n",
       "14     73.00       100          39        8.55  \n",
       "17     63.00        78         100        1.01  \n",
       "19     78.80        89          75        6.91  \n",
       "20     63.00        94          75        5.75  \n",
       "27     69.80        83          75        2.30  \n",
       "31     69.44        72          20       18.01  \n",
       "32     78.80        31           0        4.61  "
      ],
      "text/html": "<div>\n<style scoped>\n    .dataframe tbody tr th:only-of-type {\n        vertical-align: middle;\n    }\n\n    .dataframe tbody tr th {\n        vertical-align: top;\n    }\n\n    .dataframe thead th {\n        text-align: right;\n    }\n</style>\n<table border=\"1\" class=\"dataframe\">\n  <thead>\n    <tr style=\"text-align: right;\">\n      <th></th>\n      <th>City_ID</th>\n      <th>City</th>\n      <th>Country</th>\n      <th>Date</th>\n      <th>Lat</th>\n      <th>Lng</th>\n      <th>Max Temp</th>\n      <th>Humidity</th>\n      <th>Cloudiness</th>\n      <th>Wind Speed</th>\n    </tr>\n  </thead>\n  <tbody>\n    <tr>\n      <th>3</th>\n      <td>3</td>\n      <td>Faya</td>\n      <td>SA</td>\n      <td>2021-03-23 17:52:36</td>\n      <td>18.3851</td>\n      <td>42.4509</td>\n      <td>69.80</td>\n      <td>56</td>\n      <td>0</td>\n      <td>10.36</td>\n    </tr>\n    <tr>\n      <th>4</th>\n      <td>4</td>\n      <td>Kapaa</td>\n      <td>US</td>\n      <td>2021-03-23 17:52:37</td>\n      <td>22.0752</td>\n      <td>-159.3190</td>\n      <td>64.40</td>\n      <td>88</td>\n      <td>1</td>\n      <td>8.05</td>\n    </tr>\n    <tr>\n      <th>13</th>\n      <td>13</td>\n      <td>East London</td>\n      <td>ZA</td>\n      <td>2021-03-23 17:52:39</td>\n      <td>-33.0153</td>\n      <td>27.9116</td>\n      <td>68.00</td>\n      <td>77</td>\n      <td>20</td>\n      <td>10.36</td>\n    </tr>\n    <tr>\n      <th>14</th>\n      <td>14</td>\n      <td>Byron Bay</td>\n      <td>AU</td>\n      <td>2021-03-23 17:52:39</td>\n      <td>-28.6500</td>\n      <td>153.6167</td>\n      <td>73.00</td>\n      <td>100</td>\n      <td>39</td>\n      <td>8.55</td>\n    </tr>\n    <tr>\n      <th>17</th>\n      <td>17</td>\n      <td>New Norfolk</td>\n      <td>AU</td>\n      <td>2021-03-23 17:52:40</td>\n      <td>-42.7826</td>\n      <td>147.0587</td>\n      <td>63.00</td>\n      <td>78</td>\n      <td>100</td>\n      <td>1.01</td>\n    </tr>\n    <tr>\n      <th>19</th>\n      <td>19</td>\n      <td>Gladstone</td>\n      <td>AU</td>\n      <td>2021-03-23 17:52:40</td>\n      <td>-23.8500</td>\n      <td>151.2500</td>\n      <td>78.80</td>\n      <td>89</td>\n      <td>75</td>\n      <td>6.91</td>\n    </tr>\n    <tr>\n      <th>20</th>\n      <td>20</td>\n      <td>Hobart</td>\n      <td>AU</td>\n      <td>2021-03-23 17:48:31</td>\n      <td>-42.8794</td>\n      <td>147.3294</td>\n      <td>63.00</td>\n      <td>94</td>\n      <td>75</td>\n      <td>5.75</td>\n    </tr>\n    <tr>\n      <th>27</th>\n      <td>27</td>\n      <td>Da Nang</td>\n      <td>VN</td>\n      <td>2021-03-23 17:52:42</td>\n      <td>16.0678</td>\n      <td>108.2208</td>\n      <td>69.80</td>\n      <td>83</td>\n      <td>75</td>\n      <td>2.30</td>\n    </tr>\n    <tr>\n      <th>31</th>\n      <td>31</td>\n      <td>Port Alfred</td>\n      <td>ZA</td>\n      <td>2021-03-23 17:52:43</td>\n      <td>-33.5906</td>\n      <td>26.8910</td>\n      <td>69.44</td>\n      <td>72</td>\n      <td>20</td>\n      <td>18.01</td>\n    </tr>\n    <tr>\n      <th>32</th>\n      <td>32</td>\n      <td>Khorramshahr</td>\n      <td>IR</td>\n      <td>2021-03-23 17:52:43</td>\n      <td>30.4397</td>\n      <td>48.1664</td>\n      <td>78.80</td>\n      <td>31</td>\n      <td>0</td>\n      <td>4.61</td>\n    </tr>\n  </tbody>\n</table>\n</div>"
     },
     "metadata": {},
     "execution_count": 26
    }
   ],
   "source": [
    "# Filter the dataset to find the cities that fit the criteria.\n",
    "preferred_cities_df = city_data_df.loc[(city_data_df[\"Max Temp\"] <= max_temp) & \\\n",
    "                                       (city_data_df[\"Max Temp\"] >= min_temp)].dropna()\n",
    "preferred_cities_df.head(10)"
   ]
  },
  {
   "cell_type": "code",
   "execution_count": 27,
   "metadata": {},
   "outputs": [
    {
     "output_type": "execute_result",
     "data": {
      "text/plain": [
       "City_ID       191\n",
       "City          191\n",
       "Country       191\n",
       "Date          191\n",
       "Lat           191\n",
       "Lng           191\n",
       "Max Temp      191\n",
       "Humidity      191\n",
       "Cloudiness    191\n",
       "Wind Speed    191\n",
       "dtype: int64"
      ]
     },
     "metadata": {},
     "execution_count": 27
    }
   ],
   "source": [
    "preferred_cities_df.count()"
   ]
  },
  {
   "cell_type": "code",
   "execution_count": 29,
   "metadata": {},
   "outputs": [
    {
     "output_type": "execute_result",
     "data": {
      "text/plain": [
       "            City Country  Max Temp      Lat       Lng Hotel Name\n",
       "3           Faya      SA     69.80  18.3851   42.4509           \n",
       "4          Kapaa      US     64.40  22.0752 -159.3190           \n",
       "13   East London      ZA     68.00 -33.0153   27.9116           \n",
       "14     Byron Bay      AU     73.00 -28.6500  153.6167           \n",
       "17   New Norfolk      AU     63.00 -42.7826  147.0587           \n",
       "19     Gladstone      AU     78.80 -23.8500  151.2500           \n",
       "20        Hobart      AU     63.00 -42.8794  147.3294           \n",
       "27       Da Nang      VN     69.80  16.0678  108.2208           \n",
       "31   Port Alfred      ZA     69.44 -33.5906   26.8910           \n",
       "32  Khorramshahr      IR     78.80  30.4397   48.1664           "
      ],
      "text/html": "<div>\n<style scoped>\n    .dataframe tbody tr th:only-of-type {\n        vertical-align: middle;\n    }\n\n    .dataframe tbody tr th {\n        vertical-align: top;\n    }\n\n    .dataframe thead th {\n        text-align: right;\n    }\n</style>\n<table border=\"1\" class=\"dataframe\">\n  <thead>\n    <tr style=\"text-align: right;\">\n      <th></th>\n      <th>City</th>\n      <th>Country</th>\n      <th>Max Temp</th>\n      <th>Lat</th>\n      <th>Lng</th>\n      <th>Hotel Name</th>\n    </tr>\n  </thead>\n  <tbody>\n    <tr>\n      <th>3</th>\n      <td>Faya</td>\n      <td>SA</td>\n      <td>69.80</td>\n      <td>18.3851</td>\n      <td>42.4509</td>\n      <td></td>\n    </tr>\n    <tr>\n      <th>4</th>\n      <td>Kapaa</td>\n      <td>US</td>\n      <td>64.40</td>\n      <td>22.0752</td>\n      <td>-159.3190</td>\n      <td></td>\n    </tr>\n    <tr>\n      <th>13</th>\n      <td>East London</td>\n      <td>ZA</td>\n      <td>68.00</td>\n      <td>-33.0153</td>\n      <td>27.9116</td>\n      <td></td>\n    </tr>\n    <tr>\n      <th>14</th>\n      <td>Byron Bay</td>\n      <td>AU</td>\n      <td>73.00</td>\n      <td>-28.6500</td>\n      <td>153.6167</td>\n      <td></td>\n    </tr>\n    <tr>\n      <th>17</th>\n      <td>New Norfolk</td>\n      <td>AU</td>\n      <td>63.00</td>\n      <td>-42.7826</td>\n      <td>147.0587</td>\n      <td></td>\n    </tr>\n    <tr>\n      <th>19</th>\n      <td>Gladstone</td>\n      <td>AU</td>\n      <td>78.80</td>\n      <td>-23.8500</td>\n      <td>151.2500</td>\n      <td></td>\n    </tr>\n    <tr>\n      <th>20</th>\n      <td>Hobart</td>\n      <td>AU</td>\n      <td>63.00</td>\n      <td>-42.8794</td>\n      <td>147.3294</td>\n      <td></td>\n    </tr>\n    <tr>\n      <th>27</th>\n      <td>Da Nang</td>\n      <td>VN</td>\n      <td>69.80</td>\n      <td>16.0678</td>\n      <td>108.2208</td>\n      <td></td>\n    </tr>\n    <tr>\n      <th>31</th>\n      <td>Port Alfred</td>\n      <td>ZA</td>\n      <td>69.44</td>\n      <td>-33.5906</td>\n      <td>26.8910</td>\n      <td></td>\n    </tr>\n    <tr>\n      <th>32</th>\n      <td>Khorramshahr</td>\n      <td>IR</td>\n      <td>78.80</td>\n      <td>30.4397</td>\n      <td>48.1664</td>\n      <td></td>\n    </tr>\n  </tbody>\n</table>\n</div>"
     },
     "metadata": {},
     "execution_count": 29
    }
   ],
   "source": [
    "# Create DataFrame called hotel_df to store hotel names along with city, country, max temp, and coordinates.\n",
    "hotel_df = preferred_cities_df[[\"City\", \"Country\", \"Max Temp\", \"Lat\", \"Lng\"]].copy()\n",
    "hotel_df[\"Hotel Name\"] = \"\"\n",
    "hotel_df.head(10)"
   ]
  },
  {
   "source": [
    "## API Request"
   ],
   "cell_type": "markdown",
   "metadata": {}
  },
  {
   "cell_type": "code",
   "execution_count": 30,
   "metadata": {},
   "outputs": [],
   "source": [
    "# Set parameters to search for a hotel.\n",
    "params = {\n",
    "    \"radius\": 5000,\n",
    "    \"type\": \"lodging\",\n",
    "    \"key\": g_key\n",
    "}"
   ]
  },
  {
   "cell_type": "code",
   "execution_count": 32,
   "metadata": {},
   "outputs": [
    {
     "output_type": "stream",
     "name": "stdout",
     "text": [
      "Hotel not found... skipping.\n",
      "Hotel not found... skipping.\n",
      "Hotel not found... skipping.\n",
      "Hotel not found... skipping.\n",
      "Hotel not found... skipping.\n",
      "Hotel not found... skipping.\n"
     ]
    }
   ],
   "source": [
    "# Iterate through the DataFrame.\n",
    "for index, row in hotel_df.iterrows():\n",
    "    # Get the latitude and longitude.\n",
    "    lat = row[\"Lat\"]\n",
    "    lng = row[\"Lng\"]\n",
    "\n",
    "    # Add the latitude and longitude to location key for the params dictionary.\n",
    "    params[\"location\"] = f\"{lat},{lng}\"\n",
    "\n",
    "    # Use the search term: \"lodging\" and our latitude and longitude.\n",
    "    base_url = \"https://maps.googleapis.com/maps/api/place/nearbysearch/json\"\n",
    "    # Make request and get the JSON data from the search.\n",
    "    hotels = requests.get(base_url, params=params).json()\n",
    "\n",
    "    # Grab the first hotel from the results and store the name.\n",
    "    try:\n",
    "        hotel_df.loc[index, \"Hotel Name\"] = hotels[\"results\"][0][\"name\"]\n",
    "\n",
    "    except (IndexError):\n",
    "        print(\"Hotel not found... skipping.\")\n"
   ]
  },
  {
   "cell_type": "code",
   "execution_count": 33,
   "metadata": {},
   "outputs": [
    {
     "output_type": "execute_result",
     "data": {
      "text/plain": [
       "            City Country  Max Temp      Lat       Lng  \\\n",
       "3           Faya      SA     69.80  18.3851   42.4509   \n",
       "4          Kapaa      US     64.40  22.0752 -159.3190   \n",
       "13   East London      ZA     68.00 -33.0153   27.9116   \n",
       "14     Byron Bay      AU     73.00 -28.6500  153.6167   \n",
       "17   New Norfolk      AU     63.00 -42.7826  147.0587   \n",
       "19     Gladstone      AU     78.80 -23.8500  151.2500   \n",
       "20        Hobart      AU     63.00 -42.8794  147.3294   \n",
       "27       Da Nang      VN     69.80  16.0678  108.2208   \n",
       "31   Port Alfred      ZA     69.44 -33.5906   26.8910   \n",
       "32  Khorramshahr      IR     78.80  30.4397   48.1664   \n",
       "\n",
       "                                        Hotel Name  \n",
       "3                                    مقبرة ال مجمل  \n",
       "4           Sheraton Kauai Resort at Coconut Beach  \n",
       "13                                         Tu Casa  \n",
       "14                    Backpackers Inn on the Beach  \n",
       "17                 The Shingles Riverside Cottages  \n",
       "19                         Highpoint International  \n",
       "20                        Mantra on Collins Hobart  \n",
       "27                                 Sun River Hotel  \n",
       "31                              The Halyards Hotel  \n",
       "32  دفتر نمایندگی شرکت بازاریابان ایرانیان زمینBIZ  "
      ],
      "text/html": "<div>\n<style scoped>\n    .dataframe tbody tr th:only-of-type {\n        vertical-align: middle;\n    }\n\n    .dataframe tbody tr th {\n        vertical-align: top;\n    }\n\n    .dataframe thead th {\n        text-align: right;\n    }\n</style>\n<table border=\"1\" class=\"dataframe\">\n  <thead>\n    <tr style=\"text-align: right;\">\n      <th></th>\n      <th>City</th>\n      <th>Country</th>\n      <th>Max Temp</th>\n      <th>Lat</th>\n      <th>Lng</th>\n      <th>Hotel Name</th>\n    </tr>\n  </thead>\n  <tbody>\n    <tr>\n      <th>3</th>\n      <td>Faya</td>\n      <td>SA</td>\n      <td>69.80</td>\n      <td>18.3851</td>\n      <td>42.4509</td>\n      <td>مقبرة ال مجمل</td>\n    </tr>\n    <tr>\n      <th>4</th>\n      <td>Kapaa</td>\n      <td>US</td>\n      <td>64.40</td>\n      <td>22.0752</td>\n      <td>-159.3190</td>\n      <td>Sheraton Kauai Resort at Coconut Beach</td>\n    </tr>\n    <tr>\n      <th>13</th>\n      <td>East London</td>\n      <td>ZA</td>\n      <td>68.00</td>\n      <td>-33.0153</td>\n      <td>27.9116</td>\n      <td>Tu Casa</td>\n    </tr>\n    <tr>\n      <th>14</th>\n      <td>Byron Bay</td>\n      <td>AU</td>\n      <td>73.00</td>\n      <td>-28.6500</td>\n      <td>153.6167</td>\n      <td>Backpackers Inn on the Beach</td>\n    </tr>\n    <tr>\n      <th>17</th>\n      <td>New Norfolk</td>\n      <td>AU</td>\n      <td>63.00</td>\n      <td>-42.7826</td>\n      <td>147.0587</td>\n      <td>The Shingles Riverside Cottages</td>\n    </tr>\n    <tr>\n      <th>19</th>\n      <td>Gladstone</td>\n      <td>AU</td>\n      <td>78.80</td>\n      <td>-23.8500</td>\n      <td>151.2500</td>\n      <td>Highpoint International</td>\n    </tr>\n    <tr>\n      <th>20</th>\n      <td>Hobart</td>\n      <td>AU</td>\n      <td>63.00</td>\n      <td>-42.8794</td>\n      <td>147.3294</td>\n      <td>Mantra on Collins Hobart</td>\n    </tr>\n    <tr>\n      <th>27</th>\n      <td>Da Nang</td>\n      <td>VN</td>\n      <td>69.80</td>\n      <td>16.0678</td>\n      <td>108.2208</td>\n      <td>Sun River Hotel</td>\n    </tr>\n    <tr>\n      <th>31</th>\n      <td>Port Alfred</td>\n      <td>ZA</td>\n      <td>69.44</td>\n      <td>-33.5906</td>\n      <td>26.8910</td>\n      <td>The Halyards Hotel</td>\n    </tr>\n    <tr>\n      <th>32</th>\n      <td>Khorramshahr</td>\n      <td>IR</td>\n      <td>78.80</td>\n      <td>30.4397</td>\n      <td>48.1664</td>\n      <td>دفتر نمایندگی شرکت بازاریابان ایرانیان زمینBIZ</td>\n    </tr>\n  </tbody>\n</table>\n</div>"
     },
     "metadata": {},
     "execution_count": 33
    }
   ],
   "source": [
    "hotel_df.head(10)"
   ]
  },
  {
   "source": [
    "## Heatmap with Hotels"
   ],
   "cell_type": "markdown",
   "metadata": {}
  },
  {
   "cell_type": "code",
   "execution_count": 38,
   "metadata": {},
   "outputs": [],
   "source": [
    "\n",
    "info_box_template = \"\"\"\n",
    "        <dl>\n",
    "        <dt>Hotel Name</dt><dd>{Hotel Name}</dd>\n",
    "        <dt>City</dt><dd>{City}</dd>\n",
    "        <dt>Country</dt><dd>{Country}</dd>\n",
    "        <dt>Max Temp</dt><dd>{Max Temp} °F</dd>\n",
    "        </dl>\n",
    "        \"\"\"\n",
    "\n",
    "# Store the DataFrame Row.\n",
    "hotel_info = [info_box_template.format(**row) for index, row in hotel_df.iterrows()]"
   ]
  },
  {
   "cell_type": "code",
   "execution_count": 42,
   "metadata": {},
   "outputs": [
    {
     "output_type": "display_data",
     "data": {
      "text/plain": "Figure(layout=FigureLayout(height='420px'))",
      "application/vnd.jupyter.widget-view+json": {
       "version_major": 2,
       "version_minor": 0,
       "model_id": "21ae92e967fa4240b3a1c8f2fd5b2363"
      }
     },
     "metadata": {}
    }
   ],
   "source": [
    "# Add a heatmap of temperature for the vacation spots.\n",
    "locations = hotel_df[[\"Lat\", \"Lng\"]]\n",
    "max_temp = hotel_df[\"Max Temp\"]\n",
    "fig = gmaps.figure(center=(30.0, 31.0), zoom_level=1.5)\n",
    "heat_layer = gmaps.heatmap_layer(locations, weights=max_temp, dissipating=False,\n",
    "             max_intensity=300, point_radius=4)\n",
    "marker_layer = gmaps.marker_layer(locations, info_box_content=hotel_info)\n",
    "fig.add_layer(heat_layer)\n",
    "fig.add_layer(marker_layer)\n",
    "# Call the figure to plot the data.\n",
    "fig"
   ]
  }
 ],
 "metadata": {
  "kernelspec": {
   "display_name": "PythonData",
   "language": "python",
   "name": "pythondata"
  },
  "language_info": {
   "codemirror_mode": {
    "name": "ipython",
    "version": 3
   },
   "file_extension": ".py",
   "mimetype": "text/x-python",
   "name": "python",
   "nbconvert_exporter": "python",
   "pygments_lexer": "ipython3",
   "version": "3.8.5-final"
  }
 },
 "nbformat": 4,
 "nbformat_minor": 2
}