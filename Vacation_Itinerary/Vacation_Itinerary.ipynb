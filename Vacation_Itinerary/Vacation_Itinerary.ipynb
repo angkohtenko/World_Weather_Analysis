{
 "cells": [
  {
   "cell_type": "markdown",
   "metadata": {},
   "source": [
    "## Deliverable 3. Create a Travel Itinerary Map."
   ]
  },
  {
   "cell_type": "code",
   "execution_count": 100,
   "metadata": {},
   "outputs": [],
   "source": [
    "# Dependencies and Setup\n",
    "import pandas as pd\n",
    "import requests\n",
    "import gmaps\n",
    "\n",
    "# Import config from another folder\n",
    "import sys\n",
    "sys.path.append('../')\n",
    "\n",
    "# Import API key\n",
    "from config import g_key\n",
    "\n",
    "# Configure gmaps\n",
    "gmaps.configure(api_key=g_key)"
   ]
  },
  {
   "cell_type": "code",
   "execution_count": 101,
   "metadata": {},
   "outputs": [
    {
     "output_type": "execute_result",
     "data": {
      "text/plain": [
       "   City_ID         City Country  Max Temp Current Description      Lat  \\\n",
       "0        3         Chuy      UY     74.14       moderate rain -33.6971   \n",
       "1        7  Port Alfred      ZA     70.47       broken clouds -33.5906   \n",
       "2       11       Dingle      PH     74.82     overcast clouds  10.9995   \n",
       "3       12         Hilo      US     77.00       broken clouds  19.7297   \n",
       "4       13     Hermanus      ZA     71.01       broken clouds -34.4187   \n",
       "\n",
       "        Lng                  Hotel Name  \n",
       "0  -53.4616           Nuevo Hotel Plaza  \n",
       "1   26.8910          The Halyards Hotel  \n",
       "2  122.6711             SEGAYA PROPERTY  \n",
       "3 -155.0900         Hilo Hawaiian Hotel  \n",
       "4   19.2345  Misty Waves Boutique Hotel  "
      ],
      "text/html": "<div>\n<style scoped>\n    .dataframe tbody tr th:only-of-type {\n        vertical-align: middle;\n    }\n\n    .dataframe tbody tr th {\n        vertical-align: top;\n    }\n\n    .dataframe thead th {\n        text-align: right;\n    }\n</style>\n<table border=\"1\" class=\"dataframe\">\n  <thead>\n    <tr style=\"text-align: right;\">\n      <th></th>\n      <th>City_ID</th>\n      <th>City</th>\n      <th>Country</th>\n      <th>Max Temp</th>\n      <th>Current Description</th>\n      <th>Lat</th>\n      <th>Lng</th>\n      <th>Hotel Name</th>\n    </tr>\n  </thead>\n  <tbody>\n    <tr>\n      <th>0</th>\n      <td>3</td>\n      <td>Chuy</td>\n      <td>UY</td>\n      <td>74.14</td>\n      <td>moderate rain</td>\n      <td>-33.6971</td>\n      <td>-53.4616</td>\n      <td>Nuevo Hotel Plaza</td>\n    </tr>\n    <tr>\n      <th>1</th>\n      <td>7</td>\n      <td>Port Alfred</td>\n      <td>ZA</td>\n      <td>70.47</td>\n      <td>broken clouds</td>\n      <td>-33.5906</td>\n      <td>26.8910</td>\n      <td>The Halyards Hotel</td>\n    </tr>\n    <tr>\n      <th>2</th>\n      <td>11</td>\n      <td>Dingle</td>\n      <td>PH</td>\n      <td>74.82</td>\n      <td>overcast clouds</td>\n      <td>10.9995</td>\n      <td>122.6711</td>\n      <td>SEGAYA PROPERTY</td>\n    </tr>\n    <tr>\n      <th>3</th>\n      <td>12</td>\n      <td>Hilo</td>\n      <td>US</td>\n      <td>77.00</td>\n      <td>broken clouds</td>\n      <td>19.7297</td>\n      <td>-155.0900</td>\n      <td>Hilo Hawaiian Hotel</td>\n    </tr>\n    <tr>\n      <th>4</th>\n      <td>13</td>\n      <td>Hermanus</td>\n      <td>ZA</td>\n      <td>71.01</td>\n      <td>broken clouds</td>\n      <td>-34.4187</td>\n      <td>19.2345</td>\n      <td>Misty Waves Boutique Hotel</td>\n    </tr>\n  </tbody>\n</table>\n</div>"
     },
     "metadata": {},
     "execution_count": 101
    }
   ],
   "source": [
    "# Read the WeatherPy_vacation.csv into a DataFrame.\n",
    "vacation_df = pd.read_csv(\"../Vacation_Search/WeatherPy_vacation.csv\")\n",
    "vacation_df.head()"
   ]
  },
  {
   "cell_type": "code",
   "execution_count": 102,
   "metadata": {},
   "outputs": [],
   "source": [
    "# Using the template add the city name, the country code, the weather description and maximum temperature for the city.\n",
    "info_box_template = \"\"\"\n",
    "        <dl>\n",
    "        <dt><b>Hotel Name</b></dt><dd>{Hotel Name}</dd>\n",
    "        <dt><b>City</b></dt><dd>{City}</dd>\n",
    "        <dt><b>Country</b></dt><dd>{Country}</dd>\n",
    "        <dt><b>Weather description</b></dt><dd>{Current Description} and {Max Temp} °F</dd>\n",
    "        </dl>\n",
    "\"\"\"\n",
    "\n",
    "# Get the data from each row and add it to the formatting template and store the data in a list.\n",
    "hotel_info = [info_box_template.format(**row) for index, row in vacation_df.iterrows()]\n",
    "\n",
    "# Get the latitude and longitude from each row and store in a new DataFrame.\n",
    "locations = vacation_df[[\"Lat\", \"Lng\"]]"
   ]
  },
  {
   "cell_type": "code",
   "execution_count": 103,
   "metadata": {},
   "outputs": [
    {
     "output_type": "display_data",
     "data": {
      "text/plain": "Figure(layout=FigureLayout(height='420px'))",
      "application/vnd.jupyter.widget-view+json": {
       "version_major": 2,
       "version_minor": 0,
       "model_id": "fcf47847c4274301ab24ef4a0080cd3b"
      }
     },
     "metadata": {}
    }
   ],
   "source": [
    "# Add a marker layer for each city to the map.\n",
    "max_temp = vacation_df[\"Max Temp\"]\n",
    "fig = gmaps.figure(center=(30.0, 31.0), zoom_level=1.5)\n",
    "heat_layer = gmaps.heatmap_layer(locations, weights=max_temp, dissipating=False,\n",
    "             max_intensity=300, point_radius=4)\n",
    "marker_layer = gmaps.marker_layer(locations, info_box_content=hotel_info)\n",
    "fig.add_layer(heat_layer)\n",
    "fig.add_layer(marker_layer)\n",
    "# Display the figure\n",
    "fig\n"
   ]
  },
  {
   "cell_type": "code",
   "execution_count": 104,
   "metadata": {},
   "outputs": [
    {
     "output_type": "execute_result",
     "data": {
      "text/plain": [
       "   City_ID          City Country  Max Temp Current Description      Lat  \\\n",
       "0      108  Gloversville      US      70.0           clear sky  43.0528   \n",
       "\n",
       "       Lng                          Hotel Name  \n",
       "0 -74.3438  Holiday Inn Johnstown-Gloversville  "
      ],
      "text/html": "<div>\n<style scoped>\n    .dataframe tbody tr th:only-of-type {\n        vertical-align: middle;\n    }\n\n    .dataframe tbody tr th {\n        vertical-align: top;\n    }\n\n    .dataframe thead th {\n        text-align: right;\n    }\n</style>\n<table border=\"1\" class=\"dataframe\">\n  <thead>\n    <tr style=\"text-align: right;\">\n      <th></th>\n      <th>City_ID</th>\n      <th>City</th>\n      <th>Country</th>\n      <th>Max Temp</th>\n      <th>Current Description</th>\n      <th>Lat</th>\n      <th>Lng</th>\n      <th>Hotel Name</th>\n    </tr>\n  </thead>\n  <tbody>\n    <tr>\n      <th>0</th>\n      <td>108</td>\n      <td>Gloversville</td>\n      <td>US</td>\n      <td>70.0</td>\n      <td>clear sky</td>\n      <td>43.0528</td>\n      <td>-74.3438</td>\n      <td>Holiday Inn Johnstown-Gloversville</td>\n    </tr>\n  </tbody>\n</table>\n</div>"
     },
     "metadata": {},
     "execution_count": 104
    }
   ],
   "source": [
    "# From the map above pick 4 cities and create a vacation itinerary route to travel between the four cities. \n",
    "# Create DataFrames for each city by filtering the 'vacation_df' using the loc method. \n",
    "# Hint: The starting and ending city should be the same city.\n",
    "\n",
    "vacation_start = vacation_df.loc[vacation_df['City'] == 'Gloversville'].reset_index(drop=True)\n",
    "vacation_end = vacation_start\n",
    "vacation_stop1 = vacation_df.loc[vacation_df['City'] == 'Torrington'].reset_index(drop=True)\n",
    "vacation_stop2 = vacation_df.loc[vacation_df['City'] == 'Lewistown'].reset_index(drop=True)\n",
    "vacation_stop3 = vacation_df.loc[vacation_df['City'] == 'Jamestown'].reset_index(drop=True)\n",
    "vacation_start"
   ]
  },
  {
   "cell_type": "code",
   "execution_count": 105,
   "metadata": {},
   "outputs": [
    {
     "output_type": "execute_result",
     "data": {
      "text/plain": [
       "array([ 43.0528, -74.3438])"
      ]
     },
     "metadata": {},
     "execution_count": 105
    }
   ],
   "source": [
    "# Get the latitude-longitude pairs as tuples from each city DataFrame using the to_numpy function and list indexing.\n",
    "start = vacation_start[['Lat', 'Lng']].loc[0].to_numpy()\n",
    "stop1 = vacation_stop1[['Lat', 'Lng']].loc[0].to_numpy()\n",
    "stop2 = vacation_stop2[['Lat', 'Lng']].loc[0].to_numpy()\n",
    "stop3 = vacation_stop3[['Lat', 'Lng']].loc[0].to_numpy()\n",
    "end = vacation_end[['Lat', 'Lng']].loc[0].to_numpy()\n",
    "start"
   ]
  },
  {
   "cell_type": "code",
   "execution_count": 106,
   "metadata": {
    "scrolled": true
   },
   "outputs": [
    {
     "output_type": "display_data",
     "data": {
      "text/plain": "Figure(layout=FigureLayout(height='420px'))",
      "application/vnd.jupyter.widget-view+json": {
       "version_major": 2,
       "version_minor": 0,
       "model_id": "bafd67a278b14c6785002195f5c2560b"
      }
     },
     "metadata": {}
    }
   ],
   "source": [
    "# Create a direction layer map using the start and end latitude-longitude pairs,\n",
    "# and stop1, stop2, and stop3 as the waypoints. The travel_mode should be \"DRIVING\", \"BICYCLING\", or \"WALKING\".\n",
    "fig = gmaps.figure()\n",
    "waypoints=[stop1, stop2, stop3]\n",
    "route = gmaps.directions_layer(start, end, waypoints=waypoints,travel_mode='DRIVING')\n",
    "fig.add_layer(route)\n",
    "fig\n"
   ]
  },
  {
   "cell_type": "code",
   "execution_count": 107,
   "metadata": {},
   "outputs": [
    {
     "output_type": "execute_result",
     "data": {
      "text/plain": [
       "   City_ID          City Country  Max Temp Current Description      Lat  \\\n",
       "0      108  Gloversville      US      70.0           clear sky  43.0528   \n",
       "1      270    Torrington      US      73.0          few clouds  41.8007   \n",
       "2      499     Lewistown      US      66.2                haze  40.5992   \n",
       "3       70     Jamestown      US      72.0           clear sky  42.0970   \n",
       "\n",
       "       Lng                          Hotel Name  \n",
       "0 -74.3438  Holiday Inn Johnstown-Gloversville  \n",
       "1 -73.1212               The Yankee Pedlar Inn  \n",
       "2 -77.5714                Quality Inn & Suites  \n",
       "3 -79.2353      Hampton Inn & Suites Jamestown  "
      ],
      "text/html": "<div>\n<style scoped>\n    .dataframe tbody tr th:only-of-type {\n        vertical-align: middle;\n    }\n\n    .dataframe tbody tr th {\n        vertical-align: top;\n    }\n\n    .dataframe thead th {\n        text-align: right;\n    }\n</style>\n<table border=\"1\" class=\"dataframe\">\n  <thead>\n    <tr style=\"text-align: right;\">\n      <th></th>\n      <th>City_ID</th>\n      <th>City</th>\n      <th>Country</th>\n      <th>Max Temp</th>\n      <th>Current Description</th>\n      <th>Lat</th>\n      <th>Lng</th>\n      <th>Hotel Name</th>\n    </tr>\n  </thead>\n  <tbody>\n    <tr>\n      <th>0</th>\n      <td>108</td>\n      <td>Gloversville</td>\n      <td>US</td>\n      <td>70.0</td>\n      <td>clear sky</td>\n      <td>43.0528</td>\n      <td>-74.3438</td>\n      <td>Holiday Inn Johnstown-Gloversville</td>\n    </tr>\n    <tr>\n      <th>1</th>\n      <td>270</td>\n      <td>Torrington</td>\n      <td>US</td>\n      <td>73.0</td>\n      <td>few clouds</td>\n      <td>41.8007</td>\n      <td>-73.1212</td>\n      <td>The Yankee Pedlar Inn</td>\n    </tr>\n    <tr>\n      <th>2</th>\n      <td>499</td>\n      <td>Lewistown</td>\n      <td>US</td>\n      <td>66.2</td>\n      <td>haze</td>\n      <td>40.5992</td>\n      <td>-77.5714</td>\n      <td>Quality Inn &amp; Suites</td>\n    </tr>\n    <tr>\n      <th>3</th>\n      <td>70</td>\n      <td>Jamestown</td>\n      <td>US</td>\n      <td>72.0</td>\n      <td>clear sky</td>\n      <td>42.0970</td>\n      <td>-79.2353</td>\n      <td>Hampton Inn &amp; Suites Jamestown</td>\n    </tr>\n  </tbody>\n</table>\n</div>"
     },
     "metadata": {},
     "execution_count": 107
    }
   ],
   "source": [
    "# To create a marker layer map between the four cities.\n",
    "#  Combine the four city DataFrames into one DataFrame using the concat() function.\n",
    "itinerary_df = pd.concat([vacation_start, vacation_stop1, vacation_stop2, vacation_stop3],ignore_index=True)\n",
    "itinerary_df"
   ]
  },
  {
   "cell_type": "code",
   "execution_count": 108,
   "metadata": {},
   "outputs": [],
   "source": [
    "# Using the template add city name, the country code, the weather description and maximum temperature for the city. \n",
    "info_box_template = \"\"\"\n",
    "        <dl>\n",
    "        <dt><b>Hotel Name</b></dt><dd>{Hotel Name}</dd>\n",
    "        <dt><b>City</b></dt><dd>{City}</dd>\n",
    "        <dt><b>Country</b></dt><dd>{Country}</dd>\n",
    "        <dt><b>Weather description</b></dt><dd>{Current Description} and {Max Temp} °F</dd>\n",
    "        </dl>\n",
    "\"\"\"\n",
    "\n",
    "# Get the data from each row and add it to the formatting template and store the data in a list.\n",
    "hotel_info = [info_box_template.format(**row) for index, row in itinerary_df.iterrows()]\n",
    "\n",
    "# Get the latitude and longitude from each row and store in a new DataFrame.\n",
    "locations = itinerary_df[[\"Lat\", \"Lng\"]]"
   ]
  },
  {
   "cell_type": "code",
   "execution_count": 109,
   "metadata": {},
   "outputs": [
    {
     "output_type": "display_data",
     "data": {
      "text/plain": "Figure(layout=FigureLayout(height='420px'))",
      "application/vnd.jupyter.widget-view+json": {
       "version_major": 2,
       "version_minor": 0,
       "model_id": "2b2e07d9e9254aebb747ff178146e70d"
      }
     },
     "metadata": {}
    }
   ],
   "source": [
    "# Add a marker layer for each city to the map.\n",
    "fig = gmaps.figure()\n",
    "marker_layer = gmaps.marker_layer(locations, info_box_content=hotel_info)\n",
    "fig.add_layer(marker_layer)\n",
    "\n",
    "# Display the figure\n",
    "fig"
   ]
  },
  {
   "cell_type": "code",
   "execution_count": null,
   "metadata": {},
   "outputs": [],
   "source": []
  }
 ],
 "metadata": {
  "kernelspec": {
   "display_name": "PythonData",
   "language": "python",
   "name": "pythondata"
  },
  "language_info": {
   "codemirror_mode": {
    "name": "ipython",
    "version": 3
   },
   "file_extension": ".py",
   "mimetype": "text/x-python",
   "name": "python",
   "nbconvert_exporter": "python",
   "pygments_lexer": "ipython3",
   "version": "3.8.5-final"
  },
  "latex_envs": {
   "LaTeX_envs_menu_present": true,
   "autoclose": false,
   "autocomplete": true,
   "bibliofile": "biblio.bib",
   "cite_by": "apalike",
   "current_citInitial": 1,
   "eqLabelWithNumbers": true,
   "eqNumInitial": 1,
   "hotkeys": {
    "equation": "Ctrl-E",
    "itemize": "Ctrl-I"
   },
   "labels_anchors": false,
   "latex_user_defs": false,
   "report_style_numbering": false,
   "user_envs_cfg": false
  }
 },
 "nbformat": 4,
 "nbformat_minor": 2
}