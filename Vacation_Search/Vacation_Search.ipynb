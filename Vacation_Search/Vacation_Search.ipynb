{
 "cells": [
  {
   "cell_type": "markdown",
   "metadata": {},
   "source": [
    "## Deliverable 2. Create a Customer Travel Destinations Map."
   ]
  },
  {
   "cell_type": "code",
   "execution_count": 16,
   "metadata": {},
   "outputs": [],
   "source": [
    "# Dependencies and Setup\n",
    "import pandas as pd\n",
    "import requests\n",
    "import gmaps\n",
    "import numpy as np\n",
    "\n",
    "# Import config from another folder\n",
    "import sys\n",
    "sys.path.append('../')\n",
    "\n",
    "# Import API key\n",
    "from config import g_key\n",
    "\n",
    "# Configure gmaps API key\n",
    "gmaps.configure(api_key=g_key)"
   ]
  },
  {
   "cell_type": "code",
   "execution_count": 17,
   "metadata": {},
   "outputs": [
    {
     "output_type": "execute_result",
     "data": {
      "text/plain": [
       "   City_ID         City Country      Lat       Lng  Max Temp  Humidity  \\\n",
       "0        0       Maceio      BR  -9.6658  -35.7353     82.40        65   \n",
       "1        1  Clyde River      CA  70.4692  -68.5914     -4.00        84   \n",
       "2        2     Klaksvik      FO  62.2266   -6.5890     44.60        87   \n",
       "3        3         Chuy      UY -33.6971  -53.4616     74.14        81   \n",
       "4        4    Busselton      AU -33.6500  115.3333     51.01        93   \n",
       "\n",
       "   Cloudiness  Wind Speed Current Description                 Date  \n",
       "0          75       11.50       broken clouds  2021-03-25 19:13:48  \n",
       "1          75       12.66                snow  2021-03-25 19:14:20  \n",
       "2          90       12.66     overcast clouds  2021-03-25 19:06:08  \n",
       "3         100       11.48       moderate rain  2021-03-25 19:14:20  \n",
       "4          25        8.08    scattered clouds  2021-03-25 19:14:20  "
      ],
      "text/html": "<div>\n<style scoped>\n    .dataframe tbody tr th:only-of-type {\n        vertical-align: middle;\n    }\n\n    .dataframe tbody tr th {\n        vertical-align: top;\n    }\n\n    .dataframe thead th {\n        text-align: right;\n    }\n</style>\n<table border=\"1\" class=\"dataframe\">\n  <thead>\n    <tr style=\"text-align: right;\">\n      <th></th>\n      <th>City_ID</th>\n      <th>City</th>\n      <th>Country</th>\n      <th>Lat</th>\n      <th>Lng</th>\n      <th>Max Temp</th>\n      <th>Humidity</th>\n      <th>Cloudiness</th>\n      <th>Wind Speed</th>\n      <th>Current Description</th>\n      <th>Date</th>\n    </tr>\n  </thead>\n  <tbody>\n    <tr>\n      <th>0</th>\n      <td>0</td>\n      <td>Maceio</td>\n      <td>BR</td>\n      <td>-9.6658</td>\n      <td>-35.7353</td>\n      <td>82.40</td>\n      <td>65</td>\n      <td>75</td>\n      <td>11.50</td>\n      <td>broken clouds</td>\n      <td>2021-03-25 19:13:48</td>\n    </tr>\n    <tr>\n      <th>1</th>\n      <td>1</td>\n      <td>Clyde River</td>\n      <td>CA</td>\n      <td>70.4692</td>\n      <td>-68.5914</td>\n      <td>-4.00</td>\n      <td>84</td>\n      <td>75</td>\n      <td>12.66</td>\n      <td>snow</td>\n      <td>2021-03-25 19:14:20</td>\n    </tr>\n    <tr>\n      <th>2</th>\n      <td>2</td>\n      <td>Klaksvik</td>\n      <td>FO</td>\n      <td>62.2266</td>\n      <td>-6.5890</td>\n      <td>44.60</td>\n      <td>87</td>\n      <td>90</td>\n      <td>12.66</td>\n      <td>overcast clouds</td>\n      <td>2021-03-25 19:06:08</td>\n    </tr>\n    <tr>\n      <th>3</th>\n      <td>3</td>\n      <td>Chuy</td>\n      <td>UY</td>\n      <td>-33.6971</td>\n      <td>-53.4616</td>\n      <td>74.14</td>\n      <td>81</td>\n      <td>100</td>\n      <td>11.48</td>\n      <td>moderate rain</td>\n      <td>2021-03-25 19:14:20</td>\n    </tr>\n    <tr>\n      <th>4</th>\n      <td>4</td>\n      <td>Busselton</td>\n      <td>AU</td>\n      <td>-33.6500</td>\n      <td>115.3333</td>\n      <td>51.01</td>\n      <td>93</td>\n      <td>25</td>\n      <td>8.08</td>\n      <td>scattered clouds</td>\n      <td>2021-03-25 19:14:20</td>\n    </tr>\n  </tbody>\n</table>\n</div>"
     },
     "metadata": {},
     "execution_count": 17
    }
   ],
   "source": [
    "# Import the WeatherPy_database.csv file. \n",
    "city_data_df = pd.read_csv(\"../Weather_Database/WeatherPy_database.csv\")\n",
    "city_data_df.head()"
   ]
  },
  {
   "cell_type": "code",
   "execution_count": 18,
   "metadata": {},
   "outputs": [],
   "source": [
    "# Prompt the user to enter minimum and maximum temperature criteria \n",
    "min_temp = float(input(\"What is the minimum temperature you would like for your trip? \"))\n",
    "max_temp = float(input(\"What is the maximum temperature you would like for your trip? \"))"
   ]
  },
  {
   "cell_type": "code",
   "execution_count": 19,
   "metadata": {},
   "outputs": [],
   "source": [
    "# Filter the city_data_df DataFrame using the input statements to create a new DataFrame using the loc method.\n",
    "user_cities = city_data_df.loc[(city_data_df[\"Max Temp\"] >= min_temp) & (city_data_df[\"Max Temp\"] <= max_temp)]"
   ]
  },
  {
   "cell_type": "code",
   "execution_count": 20,
   "metadata": {},
   "outputs": [
    {
     "output_type": "execute_result",
     "data": {
      "text/plain": [
       "City_ID                246\n",
       "City                   246\n",
       "Country                240\n",
       "Lat                    246\n",
       "Lng                    246\n",
       "Max Temp               246\n",
       "Humidity               246\n",
       "Cloudiness             246\n",
       "Wind Speed             246\n",
       "Current Description    246\n",
       "Date                   246\n",
       "dtype: int64"
      ]
     },
     "metadata": {},
     "execution_count": 20
    }
   ],
   "source": [
    "# Determine if there are any empty rows.\n",
    "user_cities.count()"
   ]
  },
  {
   "cell_type": "code",
   "execution_count": 21,
   "metadata": {},
   "outputs": [],
   "source": [
    "# Drop any empty rows and create a new DataFrame that doesn’t have empty rows.\n",
    "clean_df = user_cities.dropna()"
   ]
  },
  {
   "cell_type": "code",
   "execution_count": 22,
   "metadata": {},
   "outputs": [
    {
     "output_type": "execute_result",
     "data": {
      "text/plain": [
       "             City Country  Max Temp Current Description      Lat       Lng  \\\n",
       "3            Chuy      UY     74.14       moderate rain -33.6971  -53.4616   \n",
       "6          Albany      US     70.00    scattered clouds  42.6001  -73.9662   \n",
       "7     Port Alfred      ZA     70.47       broken clouds -33.5906   26.8910   \n",
       "11         Dingle      PH     74.82     overcast clouds  10.9995  122.6711   \n",
       "12           Hilo      US     77.00       broken clouds  19.7297 -155.0900   \n",
       "13       Hermanus      ZA     71.01       broken clouds -34.4187   19.2345   \n",
       "14  Mar Del Plata      AR     71.01          light rain -38.0023  -57.5575   \n",
       "15          Kapaa      US     73.40          few clouds  22.0752 -159.3190   \n",
       "16  Nakhon Phanom      TH     75.45    scattered clouds  17.3333  104.4167   \n",
       "17       Saldanha      ZA     69.80       broken clouds -33.0117   17.9442   \n",
       "\n",
       "    Hotel Name  \n",
       "3          NaN  \n",
       "6          NaN  \n",
       "7          NaN  \n",
       "11         NaN  \n",
       "12         NaN  \n",
       "13         NaN  \n",
       "14         NaN  \n",
       "15         NaN  \n",
       "16         NaN  \n",
       "17         NaN  "
      ],
      "text/html": "<div>\n<style scoped>\n    .dataframe tbody tr th:only-of-type {\n        vertical-align: middle;\n    }\n\n    .dataframe tbody tr th {\n        vertical-align: top;\n    }\n\n    .dataframe thead th {\n        text-align: right;\n    }\n</style>\n<table border=\"1\" class=\"dataframe\">\n  <thead>\n    <tr style=\"text-align: right;\">\n      <th></th>\n      <th>City</th>\n      <th>Country</th>\n      <th>Max Temp</th>\n      <th>Current Description</th>\n      <th>Lat</th>\n      <th>Lng</th>\n      <th>Hotel Name</th>\n    </tr>\n  </thead>\n  <tbody>\n    <tr>\n      <th>3</th>\n      <td>Chuy</td>\n      <td>UY</td>\n      <td>74.14</td>\n      <td>moderate rain</td>\n      <td>-33.6971</td>\n      <td>-53.4616</td>\n      <td>NaN</td>\n    </tr>\n    <tr>\n      <th>6</th>\n      <td>Albany</td>\n      <td>US</td>\n      <td>70.00</td>\n      <td>scattered clouds</td>\n      <td>42.6001</td>\n      <td>-73.9662</td>\n      <td>NaN</td>\n    </tr>\n    <tr>\n      <th>7</th>\n      <td>Port Alfred</td>\n      <td>ZA</td>\n      <td>70.47</td>\n      <td>broken clouds</td>\n      <td>-33.5906</td>\n      <td>26.8910</td>\n      <td>NaN</td>\n    </tr>\n    <tr>\n      <th>11</th>\n      <td>Dingle</td>\n      <td>PH</td>\n      <td>74.82</td>\n      <td>overcast clouds</td>\n      <td>10.9995</td>\n      <td>122.6711</td>\n      <td>NaN</td>\n    </tr>\n    <tr>\n      <th>12</th>\n      <td>Hilo</td>\n      <td>US</td>\n      <td>77.00</td>\n      <td>broken clouds</td>\n      <td>19.7297</td>\n      <td>-155.0900</td>\n      <td>NaN</td>\n    </tr>\n    <tr>\n      <th>13</th>\n      <td>Hermanus</td>\n      <td>ZA</td>\n      <td>71.01</td>\n      <td>broken clouds</td>\n      <td>-34.4187</td>\n      <td>19.2345</td>\n      <td>NaN</td>\n    </tr>\n    <tr>\n      <th>14</th>\n      <td>Mar Del Plata</td>\n      <td>AR</td>\n      <td>71.01</td>\n      <td>light rain</td>\n      <td>-38.0023</td>\n      <td>-57.5575</td>\n      <td>NaN</td>\n    </tr>\n    <tr>\n      <th>15</th>\n      <td>Kapaa</td>\n      <td>US</td>\n      <td>73.40</td>\n      <td>few clouds</td>\n      <td>22.0752</td>\n      <td>-159.3190</td>\n      <td>NaN</td>\n    </tr>\n    <tr>\n      <th>16</th>\n      <td>Nakhon Phanom</td>\n      <td>TH</td>\n      <td>75.45</td>\n      <td>scattered clouds</td>\n      <td>17.3333</td>\n      <td>104.4167</td>\n      <td>NaN</td>\n    </tr>\n    <tr>\n      <th>17</th>\n      <td>Saldanha</td>\n      <td>ZA</td>\n      <td>69.80</td>\n      <td>broken clouds</td>\n      <td>-33.0117</td>\n      <td>17.9442</td>\n      <td>NaN</td>\n    </tr>\n  </tbody>\n</table>\n</div>"
     },
     "metadata": {},
     "execution_count": 22
    }
   ],
   "source": [
    "# Create DataFrame called hotel_df to store hotel names along with city, country, max temp, and coordinates.\n",
    "hotel_df = clean_df[[\"City\", \"Country\", \"Max Temp\", \"Current Description\", \"Lat\", \"Lng\"]].copy()\n",
    "\n",
    "# Create a new column \"Hotel Name\"\n",
    "hotel_df[\"Hotel Name\"] = np.NaN\n",
    "hotel_df.head(10)"
   ]
  },
  {
   "cell_type": "code",
   "execution_count": 23,
   "metadata": {},
   "outputs": [
    {
     "output_type": "stream",
     "name": "stdout",
     "text": [
      "Hotel not found... skipping.\n",
      "Hotel not found... skipping.\n",
      "Hotel not found... skipping.\n",
      "Hotel not found... skipping.\n",
      "Hotel not found... skipping.\n",
      "Hotel not found... skipping.\n",
      "Hotel not found... skipping.\n",
      "Hotel not found... skipping.\n",
      "Hotel not found... skipping.\n",
      "Hotel not found... skipping.\n",
      "Hotel not found... skipping.\n",
      "Hotel not found... skipping.\n"
     ]
    }
   ],
   "source": [
    "# Set parameters to search for hotels with 5000 meters.\n",
    "params = {\n",
    "    \"radius\": 5000,\n",
    "    \"type\": \"lodging\",\n",
    "    \"key\": g_key\n",
    "}\n",
    "\n",
    "# Iterate through the hotel DataFrame.\n",
    "for index, row in hotel_df.iterrows():\n",
    "    # Get latitude and longitude from DataFrame\n",
    "    lat = row[\"Lat\"]\n",
    "    lng = row[\"Lng\"]\n",
    "    \n",
    "    # Set up the base URL for the Google Directions API to get JSON data.\n",
    "    base_url = \"https://maps.googleapis.com/maps/api/place/nearbysearch/json\"\n",
    "\n",
    "    # Make request and retrieve the JSON data from the search. \n",
    "    params[\"location\"] = f\"{lat},{lng}\"\n",
    "    hotels = requests.get(base_url, params=params).json()\n",
    "    \n",
    "    # Get the first hotel from the results and store the name, if a hotel isn't found skip the city.\n",
    "    try:\n",
    "        hotel_df.loc[index, \"Hotel Name\"] = hotels[\"results\"][0][\"name\"]\n",
    "\n",
    "    except (IndexError):\n",
    "        print(\"Hotel not found... skipping.\")\n",
    "    \n",
    "        "
   ]
  },
  {
   "cell_type": "code",
   "execution_count": 24,
   "metadata": {},
   "outputs": [
    {
     "output_type": "execute_result",
     "data": {
      "text/plain": [
       "             City Country  Max Temp Current Description      Lat       Lng  \\\n",
       "3            Chuy      UY     74.14       moderate rain -33.6971  -53.4616   \n",
       "7     Port Alfred      ZA     70.47       broken clouds -33.5906   26.8910   \n",
       "11         Dingle      PH     74.82     overcast clouds  10.9995  122.6711   \n",
       "12           Hilo      US     77.00       broken clouds  19.7297 -155.0900   \n",
       "13       Hermanus      ZA     71.01       broken clouds -34.4187   19.2345   \n",
       "14  Mar Del Plata      AR     71.01          light rain -38.0023  -57.5575   \n",
       "15          Kapaa      US     73.40          few clouds  22.0752 -159.3190   \n",
       "16  Nakhon Phanom      TH     75.45    scattered clouds  17.3333  104.4167   \n",
       "17       Saldanha      ZA     69.80       broken clouds -33.0117   17.9442   \n",
       "18            Vao      NC     77.09    scattered clouds -22.6667  167.4833   \n",
       "\n",
       "                                Hotel Name  \n",
       "3                        Nuevo Hotel Plaza  \n",
       "7                       The Halyards Hotel  \n",
       "11                         SEGAYA PROPERTY  \n",
       "12                     Hilo Hawaiian Hotel  \n",
       "13              Misty Waves Boutique Hotel  \n",
       "14                Gran Hotel Mar del Plata  \n",
       "15  Sheraton Kauai Resort at Coconut Beach  \n",
       "16                           ป่ายางรีสอร์ท  \n",
       "17                          Blue Bay Lodge  \n",
       "18                         Hotel Kou-Bugny  "
      ],
      "text/html": "<div>\n<style scoped>\n    .dataframe tbody tr th:only-of-type {\n        vertical-align: middle;\n    }\n\n    .dataframe tbody tr th {\n        vertical-align: top;\n    }\n\n    .dataframe thead th {\n        text-align: right;\n    }\n</style>\n<table border=\"1\" class=\"dataframe\">\n  <thead>\n    <tr style=\"text-align: right;\">\n      <th></th>\n      <th>City</th>\n      <th>Country</th>\n      <th>Max Temp</th>\n      <th>Current Description</th>\n      <th>Lat</th>\n      <th>Lng</th>\n      <th>Hotel Name</th>\n    </tr>\n  </thead>\n  <tbody>\n    <tr>\n      <th>3</th>\n      <td>Chuy</td>\n      <td>UY</td>\n      <td>74.14</td>\n      <td>moderate rain</td>\n      <td>-33.6971</td>\n      <td>-53.4616</td>\n      <td>Nuevo Hotel Plaza</td>\n    </tr>\n    <tr>\n      <th>7</th>\n      <td>Port Alfred</td>\n      <td>ZA</td>\n      <td>70.47</td>\n      <td>broken clouds</td>\n      <td>-33.5906</td>\n      <td>26.8910</td>\n      <td>The Halyards Hotel</td>\n    </tr>\n    <tr>\n      <th>11</th>\n      <td>Dingle</td>\n      <td>PH</td>\n      <td>74.82</td>\n      <td>overcast clouds</td>\n      <td>10.9995</td>\n      <td>122.6711</td>\n      <td>SEGAYA PROPERTY</td>\n    </tr>\n    <tr>\n      <th>12</th>\n      <td>Hilo</td>\n      <td>US</td>\n      <td>77.00</td>\n      <td>broken clouds</td>\n      <td>19.7297</td>\n      <td>-155.0900</td>\n      <td>Hilo Hawaiian Hotel</td>\n    </tr>\n    <tr>\n      <th>13</th>\n      <td>Hermanus</td>\n      <td>ZA</td>\n      <td>71.01</td>\n      <td>broken clouds</td>\n      <td>-34.4187</td>\n      <td>19.2345</td>\n      <td>Misty Waves Boutique Hotel</td>\n    </tr>\n    <tr>\n      <th>14</th>\n      <td>Mar Del Plata</td>\n      <td>AR</td>\n      <td>71.01</td>\n      <td>light rain</td>\n      <td>-38.0023</td>\n      <td>-57.5575</td>\n      <td>Gran Hotel Mar del Plata</td>\n    </tr>\n    <tr>\n      <th>15</th>\n      <td>Kapaa</td>\n      <td>US</td>\n      <td>73.40</td>\n      <td>few clouds</td>\n      <td>22.0752</td>\n      <td>-159.3190</td>\n      <td>Sheraton Kauai Resort at Coconut Beach</td>\n    </tr>\n    <tr>\n      <th>16</th>\n      <td>Nakhon Phanom</td>\n      <td>TH</td>\n      <td>75.45</td>\n      <td>scattered clouds</td>\n      <td>17.3333</td>\n      <td>104.4167</td>\n      <td>ป่ายางรีสอร์ท</td>\n    </tr>\n    <tr>\n      <th>17</th>\n      <td>Saldanha</td>\n      <td>ZA</td>\n      <td>69.80</td>\n      <td>broken clouds</td>\n      <td>-33.0117</td>\n      <td>17.9442</td>\n      <td>Blue Bay Lodge</td>\n    </tr>\n    <tr>\n      <th>18</th>\n      <td>Vao</td>\n      <td>NC</td>\n      <td>77.09</td>\n      <td>scattered clouds</td>\n      <td>-22.6667</td>\n      <td>167.4833</td>\n      <td>Hotel Kou-Bugny</td>\n    </tr>\n  </tbody>\n</table>\n</div>"
     },
     "metadata": {},
     "execution_count": 24
    }
   ],
   "source": [
    "# Drop the rows where there is no Hotel Name.\n",
    "clean_hotel_df = hotel_df.dropna()\n",
    "clean_hotel_df.head(10)"
   ]
  },
  {
   "cell_type": "code",
   "execution_count": 25,
   "metadata": {},
   "outputs": [],
   "source": [
    "# Create the output File (CSV)\n",
    "output_data_file = \"WeatherPy_vacation.csv\"\n",
    "# Export the City_Data into a csv\n",
    "clean_hotel_df.to_csv(output_data_file, index_label=\"City_ID\")"
   ]
  },
  {
   "cell_type": "code",
   "execution_count": 36,
   "metadata": {},
   "outputs": [],
   "source": [
    "# Using the template add city name, the country code, the weather description and maximum temperature for the city.\n",
    "info_box_template = \"\"\"\n",
    "        <dl>\n",
    "        <dt><b>Hotel Name</b></dt><dd>{Hotel Name}</dd>\n",
    "        <dt><b>City</b></dt><dd>{City}</dd>\n",
    "        <dt><b>Country</b></dt><dd>{Country}</dd>\n",
    "        <dt><b>Weather description</b></dt><dd>{Current Description} and max {Max Temp} °F</dd>\n",
    "        </dl>\n",
    "\"\"\"\n",
    "\n",
    "# Get the data from each row and add it to the formatting template and store the data in a list.\n",
    "hotel_info = [info_box_template.format(**row) for index, row in clean_hotel_df.iterrows()]\n",
    "\n",
    "# Get the latitude and longitude from each row and store in a new DataFrame.\n",
    "locations = clean_hotel_df[[\"Lat\", \"Lng\"]]\n",
    "list_locations = list(locations.to_records(index=False))"
   ]
  },
  {
   "cell_type": "code",
   "execution_count": 37,
   "metadata": {},
   "outputs": [
    {
     "output_type": "display_data",
     "data": {
      "text/plain": "Figure(layout=FigureLayout(height='420px'))",
      "application/vnd.jupyter.widget-view+json": {
       "version_major": 2,
       "version_minor": 0,
       "model_id": "a062150e8dc742688949e617ec8770b0"
      }
     },
     "metadata": {}
    }
   ],
   "source": [
    "# Add a marker layer for each city to the map. \n",
    "locations = hotel_df[[\"Lat\", \"Lng\"]]\n",
    "max_temp = hotel_df[\"Max Temp\"]\n",
    "fig = gmaps.figure(center=(30.0, 31.0), zoom_level=1.5)\n",
    "heat_layer = gmaps.heatmap_layer(locations, weights=max_temp, dissipating=False,\n",
    "             max_intensity=300, point_radius=4)\n",
    "marker_layer = gmaps.marker_layer(list_locations, info_box_content=hotel_info)\n",
    "fig.add_layer(heat_layer)\n",
    "fig.add_layer(marker_layer)\n",
    "# Display the figure\n",
    "fig"
   ]
  },
  {
   "cell_type": "code",
   "execution_count": null,
   "metadata": {},
   "outputs": [],
   "source": []
  }
 ],
 "metadata": {
  "kernelspec": {
   "display_name": "PythonData",
   "language": "python",
   "name": "pythondata"
  },
  "language_info": {
   "codemirror_mode": {
    "name": "ipython",
    "version": 3
   },
   "file_extension": ".py",
   "mimetype": "text/x-python",
   "name": "python",
   "nbconvert_exporter": "python",
   "pygments_lexer": "ipython3",
   "version": "3.8.5-final"
  },
  "latex_envs": {
   "LaTeX_envs_menu_present": true,
   "autoclose": false,
   "autocomplete": true,
   "bibliofile": "biblio.bib",
   "cite_by": "apalike",
   "current_citInitial": 1,
   "eqLabelWithNumbers": true,
   "eqNumInitial": 1,
   "hotkeys": {
    "equation": "Ctrl-E",
    "itemize": "Ctrl-I"
   },
   "labels_anchors": false,
   "latex_user_defs": false,
   "report_style_numbering": false,
   "user_envs_cfg": false
  }
 },
 "nbformat": 4,
 "nbformat_minor": 2
}